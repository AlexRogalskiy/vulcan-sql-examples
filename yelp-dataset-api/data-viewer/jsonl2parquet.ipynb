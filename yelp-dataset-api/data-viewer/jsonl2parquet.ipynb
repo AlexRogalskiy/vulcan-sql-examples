{
 "cells": [
  {
   "cell_type": "code",
   "execution_count": 1,
   "metadata": {},
   "outputs": [],
   "source": [
    "import json\n",
    "\n",
    "import pandas as pd"
   ]
  },
  {
   "cell_type": "markdown",
   "metadata": {},
   "source": [
    "## Business Dataset"
   ]
  },
  {
   "cell_type": "code",
   "execution_count": 2,
   "metadata": {},
   "outputs": [],
   "source": [
    "yelp_academic_dataset_business = []\n",
    "with open('../yelp_rawdata/yelp_academic_dataset_business.json', encoding='utf-8') as file:\n",
    "    for line in file:\n",
    "        yelp_academic_dataset_business.append(json.loads(line))\n",
    "\n",
    "yelp_business_df = pd.DataFrame(yelp_academic_dataset_business)"
   ]
  },
  {
   "cell_type": "code",
   "execution_count": 3,
   "metadata": {},
   "outputs": [],
   "source": [
    "yelp_business_df.to_parquet('../data/yelp_academic_dataset_business.parquet', index=False)"
   ]
  },
  {
   "cell_type": "markdown",
   "metadata": {},
   "source": [
    "## Checkin Dataset"
   ]
  },
  {
   "cell_type": "code",
   "execution_count": 4,
   "metadata": {},
   "outputs": [],
   "source": [
    "yelp_academic_dataset_checkin = []\n",
    "with open('../yelp_rawdata/yelp_academic_dataset_checkin.json', encoding='utf-8') as file:\n",
    "    for line in file:\n",
    "        yelp_academic_dataset_checkin.append(json.loads(line))\n",
    "\n",
    "yelp_checkin_df = pd.DataFrame(yelp_academic_dataset_checkin)"
   ]
  },
  {
   "cell_type": "code",
   "execution_count": 5,
   "metadata": {},
   "outputs": [],
   "source": [
    "yelp_checkin_df.to_parquet('../data/yelp_academic_dataset_checkin.parquet', index=False)"
   ]
  },
  {
   "cell_type": "markdown",
   "metadata": {},
   "source": [
    "## Review Dataset"
   ]
  },
  {
   "cell_type": "code",
   "execution_count": 6,
   "metadata": {},
   "outputs": [],
   "source": [
    "yelp_academic_dataset_review = []\n",
    "with open('../yelp_rawdata/yelp_academic_dataset_review.json', encoding='utf-8') as file:\n",
    "    for line in file:\n",
    "        yelp_academic_dataset_review.append(json.loads(line))\n",
    "\n",
    "yelp_review_df = pd.DataFrame(yelp_academic_dataset_review)"
   ]
  },
  {
   "cell_type": "code",
   "execution_count": 7,
   "metadata": {},
   "outputs": [],
   "source": [
    "yelp_review_df.to_parquet('../data/yelp_academic_dataset_review.parquet', index=False)"
   ]
  },
  {
   "cell_type": "markdown",
   "metadata": {},
   "source": [
    "## Tip Dataset"
   ]
  },
  {
   "cell_type": "code",
   "execution_count": 8,
   "metadata": {},
   "outputs": [],
   "source": [
    "yelp_academic_dataset_tip = []\n",
    "with open('../yelp_rawdata/yelp_academic_dataset_tip.json', encoding='utf-8') as file:\n",
    "    for line in file:\n",
    "        yelp_academic_dataset_tip.append(json.loads(line))\n",
    "\n",
    "yelp_tip_df = pd.DataFrame(yelp_academic_dataset_tip)"
   ]
  },
  {
   "cell_type": "code",
   "execution_count": 10,
   "metadata": {},
   "outputs": [],
   "source": [
    "yelp_tip_df.to_parquet('../data/yelp_academic_dataset_tip.parquet', index=False)"
   ]
  },
  {
   "cell_type": "markdown",
   "metadata": {},
   "source": [
    "## User Dataset"
   ]
  },
  {
   "cell_type": "code",
   "execution_count": 11,
   "metadata": {},
   "outputs": [],
   "source": [
    "yelp_academic_dataset_user = []\n",
    "with open('../yelp_rawdata/yelp_academic_dataset_user.json', encoding='utf-8') as file:\n",
    "    for line in file:\n",
    "        yelp_academic_dataset_user.append(json.loads(line))\n",
    "\n",
    "yelp_user_df = pd.DataFrame(yelp_academic_dataset_user)"
   ]
  },
  {
   "cell_type": "code",
   "execution_count": 12,
   "metadata": {},
   "outputs": [],
   "source": [
    "yelp_user_df.to_parquet('../data/yelp_academic_dataset_user.parquet', index=False)"
   ]
  },
  {
   "cell_type": "code",
   "execution_count": null,
   "metadata": {},
   "outputs": [],
   "source": []
  }
 ],
 "metadata": {
  "kernelspec": {
   "display_name": "json2csv-pRo8eDq1-py3.10",
   "language": "python",
   "name": "python3"
  },
  "language_info": {
   "codemirror_mode": {
    "name": "ipython",
    "version": 3
   },
   "file_extension": ".py",
   "mimetype": "text/x-python",
   "name": "python",
   "nbconvert_exporter": "python",
   "pygments_lexer": "ipython3",
   "version": "3.10.12"
  },
  "orig_nbformat": 4
 },
 "nbformat": 4,
 "nbformat_minor": 2
}
